{
 "cells": [
  {
   "cell_type": "code",
   "execution_count": 8,
   "id": "65fbfa15-ed0b-4ba3-ab71-07fff9f430ef",
   "metadata": {},
   "outputs": [],
   "source": [
    "import pandas as pd\n",
    "import numpy as np"
   ]
  },
  {
   "cell_type": "code",
   "execution_count": 9,
   "id": "3174c1d2-84cd-4db7-9261-4c42d31471fe",
   "metadata": {},
   "outputs": [],
   "source": [
    "data = pd.read_csv('../full-experiments/all_results/ALL_results.csv')"
   ]
  },
  {
   "cell_type": "code",
   "execution_count": 4,
   "id": "56cb1742-a6f0-4e5b-a104-c5173d8d2bdf",
   "metadata": {},
   "outputs": [],
   "source": [
    "df = data.drop_duplicates(subset='Dataset', keep='last')"
   ]
  },
  {
   "cell_type": "code",
   "execution_count": 10,
   "id": "f2e774fc-cff1-4d1d-a1dc-41b3f15da345",
   "metadata": {},
   "outputs": [
    {
     "name": "stdout",
     "output_type": "stream",
     "text": [
      "              Dataset  corr_threshold  const_threshold  seed  \\\n",
      "639  full-dv-data.csv            0.95              0.2   489   \n",
      "\n",
      "                                    class_distribution  dropout  regular  \\\n",
      "639  target\\n0    3871\\n1    2575\\nName: count, dty...     2575     3871   \n",
      "\n",
      "    Model  Accuracy  Balanced Accuracy  f1-score    recall  precision  \\\n",
      "639    nb  0.810115           0.809462  0.772321  0.806214   0.741164   \n",
      "\n",
      "     CM - True Positive  CM - False Negative  CM - False Positive  \\\n",
      "639                3146                  725                  499   \n",
      "\n",
      "     CM - True Negative  total_examples  dropout_rate  \n",
      "639                2076            6446      0.399473  \n",
      "Index(['Dataset', 'corr_threshold', 'const_threshold', 'seed',\n",
      "       'class_distribution', 'dropout', 'regular', 'Model', 'Accuracy',\n",
      "       'Balanced Accuracy', 'f1-score', 'recall', 'precision',\n",
      "       'CM - True Positive', 'CM - False Negative', 'CM - False Positive',\n",
      "       'CM - True Negative', 'total_examples', 'dropout_rate'],\n",
      "      dtype='object')\n"
     ]
    }
   ],
   "source": [
    "print(df.head())\n",
    "print(df.columns)"
   ]
  },
  {
   "cell_type": "code",
   "execution_count": 11,
   "id": "95a1cec3-eecb-499d-9d3b-aeab4224d56f",
   "metadata": {},
   "outputs": [
    {
     "name": "stdout",
     "output_type": "stream",
     "text": [
      "\n",
      "% ==========\n",
      "\\begin{table*}[htb]\n",
      "    \\centering\n",
      "    \\footnotesize\n",
      "     \\caption{Binary classification tasks generated for the experiments}\n",
      "    \\label{tab:datasets}\n",
      "    \\begin{tabular}{lccccc}\n",
      "    \\toprule\n",
      "\n",
      "    \\multirow{2}{*}{\\textbf{Acronym (Regular vs Dropout)}} & \\multirow{2}{*}{\\textbf{Features}} & \\multirow{2}{*}{\\textbf{Examples}} & \\textbf{Class} & \\textbf{Class} & \\textbf{Dropout} \\\\\n",
      "    & & & \\textbf{Regular} & \\textbf{Dropout} & \\textbf{rate} \\\\\n",
      "\n",
      "    \\midrule\n",
      "        full-dv-data.csv & 43 & 6446 & 3871 & 2575 & 0.40 \\\\ \n",
      "\n",
      "    \\bottomrule\n",
      "    \\end{tabular}\n",
      " \n",
      "\\end{table*}\n",
      "% ==========\n",
      "\n"
     ]
    }
   ],
   "source": [
    "# Calcula os totais e a taxa de Dropout\n",
    "df['total_examples'] = df['regular'] + df['dropout']\n",
    "df['dropout_rate'] = df['dropout'] / df['total_examples']\n",
    "\n",
    "# Filtrando para manter apenas os datasets com taxa de dropout maior que 0,25\n",
    "filtered_df = df[df['dropout_rate'] > 0.25]\n",
    "\n",
    "# Gera o LaTeX\n",
    "latex = r\"\"\"\n",
    "% ==========\n",
    "\\begin{table*}[htb]\n",
    "    \\centering\n",
    "    \\footnotesize\n",
    "     \\caption{Binary classification tasks generated for the experiments}\n",
    "    \\label{tab:datasets}\n",
    "    \\begin{tabular}{lccccc}\n",
    "    \\toprule\n",
    "\n",
    "    \\multirow{2}{*}{\\textbf{Acronym (Regular vs Dropout)}} & \\multirow{2}{*}{\\textbf{Features}} & \\multirow{2}{*}{\\textbf{Examples}} & \\textbf{Class} & \\textbf{Class} & \\textbf{Dropout} \\\\\n",
    "    & & & \\textbf{Regular} & \\textbf{Dropout} & \\textbf{rate} \\\\\n",
    "\n",
    "    \\midrule\n",
    "\"\"\"\n",
    "\n",
    "for i, row in filtered_df.iterrows():\n",
    "    # Escapa os underscores nos nomes dos datasets\n",
    "    dataset_name = row['Dataset'].replace('_', r'\\_')\n",
    "    latex += f\"        {dataset_name} & 43 & {row['total_examples']} & {row['regular']} & {row['dropout']} & {row['dropout_rate']:.2f} \\\\\\\\ \\n\"\n",
    "\n",
    "latex += r\"\"\"\n",
    "    \\bottomrule\n",
    "    \\end{tabular}\n",
    " \n",
    "\\end{table*}\n",
    "% ==========\n",
    "\"\"\"\n",
    "\n",
    "print(latex)\n"
   ]
  },
  {
   "cell_type": "code",
   "execution_count": 7,
   "id": "542eac56-3e94-411f-8f22-5cb8c7a3c5f6",
   "metadata": {},
   "outputs": [
    {
     "name": "stdout",
     "output_type": "stream",
     "text": [
      "\n",
      "% ==========\n",
      "\\begin{table*}[htb]\n",
      "    \\centering\n",
      "    \\footnotesize\n",
      "     \\caption{Binary classification tasks generated for the experiments}\n",
      "    \\label{tab:datasets}\n",
      "    \\begin{tabular}{lccccc}\n",
      "    \\toprule\n",
      "\n",
      "    \\multirow{2}{*}{\\textbf{Acronym (Regular vs Dropout)}} & \\multirow{2}{*}{\\textbf{Features}} & \\multirow{2}{*}{\\textbf{Examples}} & \\textbf{Class} & \\textbf{Class} & \\textbf{Dropout} \\\\\n",
      "    & & & \\textbf{Regular} & \\textbf{Dropout} & \\textbf{rate} \\\\\n",
      "\n",
      "    \\midrule\n",
      "\n",
      "    \\bottomrule\n",
      "    \\end{tabular}\n",
      " \n",
      "\\end{table*}\n",
      "% ==========\n",
      "\n"
     ]
    }
   ],
   "source": [
    "# Lista dos datasets que você deseja incluir\n",
    "datasets_to_include = [\n",
    "    \"data_dv_last_occurence_FormReg_Desis.csv\",\n",
    "    \"data_dv_last_occurence_FormReg_DesisTran.csv\",\n",
    "    \"data_dv_last_occurence_Reg_Desis.csv\",\n",
    "    \"data_dv_last_occurence_Reg_DesisTran.csv\",\n",
    "    \"data_dv_last_occurence_Form_Desis.csv\",\n",
    "    \"data_dv_FormReg_Desis.csv\",\n",
    "    \"data_dv_FormReg_DesisTran.csv\",\n",
    "    \"data_dv_Reg_Desis.csv\",\n",
    "    \"data_dv_Reg_DesisTran.csv\",\n",
    "    \"data_dv_Form_Desis.csv\"\n",
    "]\n",
    "\n",
    "# Filtra o DataFrame para incluir apenas os datasets especificados\n",
    "filtered_df = df[df['Dataset'].isin(datasets_to_include)]\n",
    "\n",
    "# Calcula os totais e a taxa de Dropout\n",
    "filtered_df['total_examples'] = filtered_df['regular'] + filtered_df['dropout']\n",
    "filtered_df['dropout_rate'] = filtered_df['dropout'] / filtered_df['total_examples']\n",
    "\n",
    "# Gera o LaTeX\n",
    "latex = r\"\"\"\n",
    "% ==========\n",
    "\\begin{table*}[htb]\n",
    "    \\centering\n",
    "    \\footnotesize\n",
    "     \\caption{Binary classification tasks generated for the experiments}\n",
    "    \\label{tab:datasets}\n",
    "    \\begin{tabular}{lccccc}\n",
    "    \\toprule\n",
    "\n",
    "    \\multirow{2}{*}{\\textbf{Acronym (Regular vs Dropout)}} & \\multirow{2}{*}{\\textbf{Features}} & \\multirow{2}{*}{\\textbf{Examples}} & \\textbf{Class} & \\textbf{Class} & \\textbf{Dropout} \\\\\n",
    "    & & & \\textbf{Regular} & \\textbf{Dropout} & \\textbf{rate} \\\\\n",
    "\n",
    "    \\midrule\n",
    "\"\"\"\n",
    "\n",
    "for i, row in filtered_df.iterrows():\n",
    "    # Escapa os underscores nos nomes dos datasets\n",
    "    dataset_name = row['Dataset'].replace('_', r'\\_')\n",
    "    latex += f\"        {dataset_name} & 43 & {row['total_examples']} & {row['regular']} & {row['dropout']} & {row['dropout_rate']:.2f} \\\\\\\\ \\n\"\n",
    "\n",
    "latex += r\"\"\"\n",
    "    \\bottomrule\n",
    "    \\end{tabular}\n",
    " \n",
    "\\end{table*}\n",
    "% ==========\n",
    "\"\"\"\n",
    "\n",
    "print(latex)\n"
   ]
  },
  {
   "cell_type": "code",
   "execution_count": null,
   "id": "af8921a4-26be-412e-87fc-ce81a519cb81",
   "metadata": {},
   "outputs": [],
   "source": []
  }
 ],
 "metadata": {
  "kernelspec": {
   "display_name": "venv",
   "language": "python",
   "name": "python3"
  },
  "language_info": {
   "codemirror_mode": {
    "name": "ipython",
    "version": 3
   },
   "file_extension": ".py",
   "mimetype": "text/x-python",
   "name": "python",
   "nbconvert_exporter": "python",
   "pygments_lexer": "ipython3",
   "version": "3.10.11"
  }
 },
 "nbformat": 4,
 "nbformat_minor": 5
}
