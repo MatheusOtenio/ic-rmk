{
 "cells": [
  {
   "cell_type": "code",
   "execution_count": 1,
   "id": "03334776-2302-455e-a771-ab06995a48ca",
   "metadata": {},
   "outputs": [
    {
     "name": "stderr",
     "output_type": "stream",
     "text": [
      "C:\\Users\\pedro\\anaconda3\\envs\\Studies\\Lib\\site-packages\\openpyxl\\styles\\stylesheet.py:237: UserWarning: Workbook contains no default style, apply openpyxl's default\n",
      "  warn(\"Workbook contains no default style, apply openpyxl's default\")\n",
      "C:\\Users\\pedro\\anaconda3\\envs\\Studies\\Lib\\site-packages\\openpyxl\\styles\\stylesheet.py:237: UserWarning: Workbook contains no default style, apply openpyxl's default\n",
      "  warn(\"Workbook contains no default style, apply openpyxl's default\")\n",
      "C:\\Users\\pedro\\anaconda3\\envs\\Studies\\Lib\\site-packages\\openpyxl\\styles\\stylesheet.py:237: UserWarning: Workbook contains no default style, apply openpyxl's default\n",
      "  warn(\"Workbook contains no default style, apply openpyxl's default\")\n",
      "C:\\Users\\pedro\\anaconda3\\envs\\Studies\\Lib\\site-packages\\openpyxl\\styles\\stylesheet.py:237: UserWarning: Workbook contains no default style, apply openpyxl's default\n",
      "  warn(\"Workbook contains no default style, apply openpyxl's default\")\n",
      "C:\\Users\\pedro\\anaconda3\\envs\\Studies\\Lib\\site-packages\\openpyxl\\styles\\stylesheet.py:237: UserWarning: Workbook contains no default style, apply openpyxl's default\n",
      "  warn(\"Workbook contains no default style, apply openpyxl's default\")\n",
      "C:\\Users\\pedro\\anaconda3\\envs\\Studies\\Lib\\site-packages\\openpyxl\\styles\\stylesheet.py:237: UserWarning: Workbook contains no default style, apply openpyxl's default\n",
      "  warn(\"Workbook contains no default style, apply openpyxl's default\")\n",
      "C:\\Users\\pedro\\anaconda3\\envs\\Studies\\Lib\\site-packages\\openpyxl\\styles\\stylesheet.py:237: UserWarning: Workbook contains no default style, apply openpyxl's default\n",
      "  warn(\"Workbook contains no default style, apply openpyxl's default\")\n",
      "C:\\Users\\pedro\\anaconda3\\envs\\Studies\\Lib\\site-packages\\openpyxl\\styles\\stylesheet.py:237: UserWarning: Workbook contains no default style, apply openpyxl's default\n",
      "  warn(\"Workbook contains no default style, apply openpyxl's default\")\n"
     ]
    },
    {
     "name": "stdout",
     "output_type": "stream",
     "text": [
      "Arquivo CSV 'newest-data-base/full-dv-data.csv' gerado com sucesso!\n"
     ]
    }
   ],
   "source": [
    "import pandas as pd\n",
    "import os\n",
    "\n",
    "pasta_entrada = 'newest-data-base/new-dv-data'\n",
    "arquivo_saida = 'newest-data-base/full-dv-data.csv'\n",
    "\n",
    "dataframes = []\n",
    "\n",
    "for arquivo in os.listdir(pasta_entrada):\n",
    "    if arquivo.endswith('.xlsx'):\n",
    "        caminho_arquivo = os.path.join(pasta_entrada, arquivo)\n",
    "        df = pd.read_excel(caminho_arquivo)\n",
    "        dataframes.append(df)\n",
    "\n",
    "df_final = pd.concat(dataframes, ignore_index=True)\n",
    "\n",
    "df_final.to_csv(arquivo_saida, index=False)\n",
    "\n",
    "print(f\"Arquivo CSV '{arquivo_saida}' gerado com sucesso!\")\n"
   ]
  },
  {
   "cell_type": "code",
   "execution_count": null,
   "id": "aded0625-6193-497e-8087-eef9c6dae3a9",
   "metadata": {},
   "outputs": [],
   "source": []
  }
 ],
 "metadata": {
  "kernelspec": {
   "display_name": "Python 3 (ipykernel)",
   "language": "python",
   "name": "python3"
  },
  "language_info": {
   "codemirror_mode": {
    "name": "ipython",
    "version": 3
   },
   "file_extension": ".py",
   "mimetype": "text/x-python",
   "name": "python",
   "nbconvert_exporter": "python",
   "pygments_lexer": "ipython3",
   "version": "3.11.4"
  }
 },
 "nbformat": 4,
 "nbformat_minor": 5
}
